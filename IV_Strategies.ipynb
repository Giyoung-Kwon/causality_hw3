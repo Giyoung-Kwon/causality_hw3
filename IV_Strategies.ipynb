{
  "cells": [
    {
      "cell_type": "markdown",
      "metadata": {
        "id": "view-in-github",
        "colab_type": "text"
      },
      "source": [
        "<a href=\"https://colab.research.google.com/github/vveitch/causality-tutorials/blob/main/IV_Strategies.ipynb\" target=\"_parent\"><img src=\"https://colab.research.google.com/assets/colab-badge.svg\" alt=\"Open In Colab\"/></a>"
      ]
    },
    {
      "cell_type": "markdown",
      "metadata": {
        "id": "3Pr7ijIYeO--"
      },
      "source": [
        "# LATE Estimation Tutorial"
      ]
    },
    {
      "cell_type": "markdown",
      "metadata": {
        "id": "kVIsqn30gqCx"
      },
      "source": [
        "This tutorial gives a short example for how to use instrument variable to estimate local average treatment effect using machine learning methods"
      ]
    },
    {
      "cell_type": "code",
      "execution_count": 1,
      "metadata": {
        "id": "Nv0YbKbGea6U"
      },
      "outputs": [],
      "source": [
        "import numpy as np\n",
        "import pandas as pd\n",
        "import sklearn\n",
        "from sklearn.ensemble import RandomForestClassifier, RandomForestRegressor\n",
        "from sklearn.linear_model import LogisticRegression\n",
        "from sklearn.model_selection import KFold, StratifiedKFold, train_test_split\n",
        "from sklearn.metrics import mean_squared_error, log_loss\n",
        "import math"
      ]
    },
    {
      "cell_type": "code",
      "execution_count": 2,
      "metadata": {
        "id": "ONvBs_yvia3a"
      },
      "outputs": [],
      "source": [
        "RANDOM_SEED=0\n",
        "np.random.seed(RANDOM_SEED)"
      ]
    },
    {
      "cell_type": "markdown",
      "metadata": {
        "id": "yPbJeayiEs3u"
      },
      "source": [
        "##Load Outvote 2020 Observational Data"
      ]
    },
    {
      "cell_type": "markdown",
      "metadata": {
        "id": "2t60_xU_qORv"
      },
      "source": [
        "First, load the observational data."
      ]
    },
    {
      "cell_type": "code",
      "execution_count": 3,
      "metadata": {
        "colab": {
          "base_uri": "https://localhost:8080/",
          "height": 488
        },
        "id": "iCuOMjvsoWpm",
        "outputId": "5eac723f-847b-41f0-a01b-377ec7ec1261"
      },
      "outputs": [
        {
          "output_type": "execute_result",
          "data": {
            "text/plain": [
              "       voted_2020  messaged  queue_position  queue_length  \\\n",
              "0               1         1             1.0          19.0   \n",
              "1               1         1             6.0          19.0   \n",
              "2               0         1             8.0          19.0   \n",
              "3               1         1            10.0          19.0   \n",
              "4               1         1            18.0          19.0   \n",
              "...           ...       ...             ...           ...   \n",
              "81199           1         0             5.0           5.0   \n",
              "81200           1         0             2.0           3.0   \n",
              "81201           0         0             1.0           2.0   \n",
              "81202           1         1             2.0           9.0   \n",
              "81203           0         1             3.0           3.0   \n",
              "\n",
              "                      queue_id  voted_2018  voted_2016  is_Democrat  \\\n",
              "0        xgcwm279xcwkxjq4zxabo           0           0            0   \n",
              "1        xgcwm279xcwkxjq4zxabo           1           1            1   \n",
              "2        xgcwm279xcwkxjq4zxabo           1           0            1   \n",
              "3        xgcwm279xcwkxjq4zxabo           1           1            0   \n",
              "4        xgcwm279xcwkxjq4zxabo           0           1            1   \n",
              "...                        ...         ...         ...          ...   \n",
              "81199  0j3f3gyc3qspaukludfcpy4           1           1            0   \n",
              "81200   ixyu0l548p9dextzgjspdr           0           1            0   \n",
              "81201   ghclqszfr6qvz2i5yesrwo           0           1            0   \n",
              "81202   sscqhe1ttlh7fmkmuk231f           1           1            0   \n",
              "81203    41tse6pfdjlw0kwcm7rbo           0           0            0   \n",
              "\n",
              "       is_Republican  is_Male  is_Female  is_Married  is_Urban  is_Rural  \\\n",
              "0                  0        0          1           0         0         0   \n",
              "1                  0        1          0           0         0         0   \n",
              "2                  0        0          1           0         0         0   \n",
              "3                  0        1          0           0         0         0   \n",
              "4                  0        0          1           0         0         0   \n",
              "...              ...      ...        ...         ...       ...       ...   \n",
              "81199              0        0          1           1         0         0   \n",
              "81200              0        0          1           0         0         0   \n",
              "81201              0        0          1           0         0         0   \n",
              "81202              0        1          0           1         0         0   \n",
              "81203              0        1          0           0         0         0   \n",
              "\n",
              "       is_Battleground   age  \n",
              "0                    1  68.0  \n",
              "1                    0  52.0  \n",
              "2                    0  26.0  \n",
              "3                    1  39.0  \n",
              "4                    1  23.0  \n",
              "...                ...   ...  \n",
              "81199                1  54.0  \n",
              "81200                0  36.0  \n",
              "81201                1  90.0  \n",
              "81202                1  72.0  \n",
              "81203                1  72.0  \n",
              "\n",
              "[81204 rows x 16 columns]"
            ],
            "text/html": [
              "\n",
              "  <div id=\"df-640ed473-2aa5-43e0-a0d4-45657e4d03d9\">\n",
              "    <div class=\"colab-df-container\">\n",
              "      <div>\n",
              "<style scoped>\n",
              "    .dataframe tbody tr th:only-of-type {\n",
              "        vertical-align: middle;\n",
              "    }\n",
              "\n",
              "    .dataframe tbody tr th {\n",
              "        vertical-align: top;\n",
              "    }\n",
              "\n",
              "    .dataframe thead th {\n",
              "        text-align: right;\n",
              "    }\n",
              "</style>\n",
              "<table border=\"1\" class=\"dataframe\">\n",
              "  <thead>\n",
              "    <tr style=\"text-align: right;\">\n",
              "      <th></th>\n",
              "      <th>voted_2020</th>\n",
              "      <th>messaged</th>\n",
              "      <th>queue_position</th>\n",
              "      <th>queue_length</th>\n",
              "      <th>queue_id</th>\n",
              "      <th>voted_2018</th>\n",
              "      <th>voted_2016</th>\n",
              "      <th>is_Democrat</th>\n",
              "      <th>is_Republican</th>\n",
              "      <th>is_Male</th>\n",
              "      <th>is_Female</th>\n",
              "      <th>is_Married</th>\n",
              "      <th>is_Urban</th>\n",
              "      <th>is_Rural</th>\n",
              "      <th>is_Battleground</th>\n",
              "      <th>age</th>\n",
              "    </tr>\n",
              "  </thead>\n",
              "  <tbody>\n",
              "    <tr>\n",
              "      <th>0</th>\n",
              "      <td>1</td>\n",
              "      <td>1</td>\n",
              "      <td>1.0</td>\n",
              "      <td>19.0</td>\n",
              "      <td>xgcwm279xcwkxjq4zxabo</td>\n",
              "      <td>0</td>\n",
              "      <td>0</td>\n",
              "      <td>0</td>\n",
              "      <td>0</td>\n",
              "      <td>0</td>\n",
              "      <td>1</td>\n",
              "      <td>0</td>\n",
              "      <td>0</td>\n",
              "      <td>0</td>\n",
              "      <td>1</td>\n",
              "      <td>68.0</td>\n",
              "    </tr>\n",
              "    <tr>\n",
              "      <th>1</th>\n",
              "      <td>1</td>\n",
              "      <td>1</td>\n",
              "      <td>6.0</td>\n",
              "      <td>19.0</td>\n",
              "      <td>xgcwm279xcwkxjq4zxabo</td>\n",
              "      <td>1</td>\n",
              "      <td>1</td>\n",
              "      <td>1</td>\n",
              "      <td>0</td>\n",
              "      <td>1</td>\n",
              "      <td>0</td>\n",
              "      <td>0</td>\n",
              "      <td>0</td>\n",
              "      <td>0</td>\n",
              "      <td>0</td>\n",
              "      <td>52.0</td>\n",
              "    </tr>\n",
              "    <tr>\n",
              "      <th>2</th>\n",
              "      <td>0</td>\n",
              "      <td>1</td>\n",
              "      <td>8.0</td>\n",
              "      <td>19.0</td>\n",
              "      <td>xgcwm279xcwkxjq4zxabo</td>\n",
              "      <td>1</td>\n",
              "      <td>0</td>\n",
              "      <td>1</td>\n",
              "      <td>0</td>\n",
              "      <td>0</td>\n",
              "      <td>1</td>\n",
              "      <td>0</td>\n",
              "      <td>0</td>\n",
              "      <td>0</td>\n",
              "      <td>0</td>\n",
              "      <td>26.0</td>\n",
              "    </tr>\n",
              "    <tr>\n",
              "      <th>3</th>\n",
              "      <td>1</td>\n",
              "      <td>1</td>\n",
              "      <td>10.0</td>\n",
              "      <td>19.0</td>\n",
              "      <td>xgcwm279xcwkxjq4zxabo</td>\n",
              "      <td>1</td>\n",
              "      <td>1</td>\n",
              "      <td>0</td>\n",
              "      <td>0</td>\n",
              "      <td>1</td>\n",
              "      <td>0</td>\n",
              "      <td>0</td>\n",
              "      <td>0</td>\n",
              "      <td>0</td>\n",
              "      <td>1</td>\n",
              "      <td>39.0</td>\n",
              "    </tr>\n",
              "    <tr>\n",
              "      <th>4</th>\n",
              "      <td>1</td>\n",
              "      <td>1</td>\n",
              "      <td>18.0</td>\n",
              "      <td>19.0</td>\n",
              "      <td>xgcwm279xcwkxjq4zxabo</td>\n",
              "      <td>0</td>\n",
              "      <td>1</td>\n",
              "      <td>1</td>\n",
              "      <td>0</td>\n",
              "      <td>0</td>\n",
              "      <td>1</td>\n",
              "      <td>0</td>\n",
              "      <td>0</td>\n",
              "      <td>0</td>\n",
              "      <td>1</td>\n",
              "      <td>23.0</td>\n",
              "    </tr>\n",
              "    <tr>\n",
              "      <th>...</th>\n",
              "      <td>...</td>\n",
              "      <td>...</td>\n",
              "      <td>...</td>\n",
              "      <td>...</td>\n",
              "      <td>...</td>\n",
              "      <td>...</td>\n",
              "      <td>...</td>\n",
              "      <td>...</td>\n",
              "      <td>...</td>\n",
              "      <td>...</td>\n",
              "      <td>...</td>\n",
              "      <td>...</td>\n",
              "      <td>...</td>\n",
              "      <td>...</td>\n",
              "      <td>...</td>\n",
              "      <td>...</td>\n",
              "    </tr>\n",
              "    <tr>\n",
              "      <th>81199</th>\n",
              "      <td>1</td>\n",
              "      <td>0</td>\n",
              "      <td>5.0</td>\n",
              "      <td>5.0</td>\n",
              "      <td>0j3f3gyc3qspaukludfcpy4</td>\n",
              "      <td>1</td>\n",
              "      <td>1</td>\n",
              "      <td>0</td>\n",
              "      <td>0</td>\n",
              "      <td>0</td>\n",
              "      <td>1</td>\n",
              "      <td>1</td>\n",
              "      <td>0</td>\n",
              "      <td>0</td>\n",
              "      <td>1</td>\n",
              "      <td>54.0</td>\n",
              "    </tr>\n",
              "    <tr>\n",
              "      <th>81200</th>\n",
              "      <td>1</td>\n",
              "      <td>0</td>\n",
              "      <td>2.0</td>\n",
              "      <td>3.0</td>\n",
              "      <td>ixyu0l548p9dextzgjspdr</td>\n",
              "      <td>0</td>\n",
              "      <td>1</td>\n",
              "      <td>0</td>\n",
              "      <td>0</td>\n",
              "      <td>0</td>\n",
              "      <td>1</td>\n",
              "      <td>0</td>\n",
              "      <td>0</td>\n",
              "      <td>0</td>\n",
              "      <td>0</td>\n",
              "      <td>36.0</td>\n",
              "    </tr>\n",
              "    <tr>\n",
              "      <th>81201</th>\n",
              "      <td>0</td>\n",
              "      <td>0</td>\n",
              "      <td>1.0</td>\n",
              "      <td>2.0</td>\n",
              "      <td>ghclqszfr6qvz2i5yesrwo</td>\n",
              "      <td>0</td>\n",
              "      <td>1</td>\n",
              "      <td>0</td>\n",
              "      <td>0</td>\n",
              "      <td>0</td>\n",
              "      <td>1</td>\n",
              "      <td>0</td>\n",
              "      <td>0</td>\n",
              "      <td>0</td>\n",
              "      <td>1</td>\n",
              "      <td>90.0</td>\n",
              "    </tr>\n",
              "    <tr>\n",
              "      <th>81202</th>\n",
              "      <td>1</td>\n",
              "      <td>1</td>\n",
              "      <td>2.0</td>\n",
              "      <td>9.0</td>\n",
              "      <td>sscqhe1ttlh7fmkmuk231f</td>\n",
              "      <td>1</td>\n",
              "      <td>1</td>\n",
              "      <td>0</td>\n",
              "      <td>0</td>\n",
              "      <td>1</td>\n",
              "      <td>0</td>\n",
              "      <td>1</td>\n",
              "      <td>0</td>\n",
              "      <td>0</td>\n",
              "      <td>1</td>\n",
              "      <td>72.0</td>\n",
              "    </tr>\n",
              "    <tr>\n",
              "      <th>81203</th>\n",
              "      <td>0</td>\n",
              "      <td>1</td>\n",
              "      <td>3.0</td>\n",
              "      <td>3.0</td>\n",
              "      <td>41tse6pfdjlw0kwcm7rbo</td>\n",
              "      <td>0</td>\n",
              "      <td>0</td>\n",
              "      <td>0</td>\n",
              "      <td>0</td>\n",
              "      <td>1</td>\n",
              "      <td>0</td>\n",
              "      <td>0</td>\n",
              "      <td>0</td>\n",
              "      <td>0</td>\n",
              "      <td>1</td>\n",
              "      <td>72.0</td>\n",
              "    </tr>\n",
              "  </tbody>\n",
              "</table>\n",
              "<p>81204 rows × 16 columns</p>\n",
              "</div>\n",
              "      <button class=\"colab-df-convert\" onclick=\"convertToInteractive('df-640ed473-2aa5-43e0-a0d4-45657e4d03d9')\"\n",
              "              title=\"Convert this dataframe to an interactive table.\"\n",
              "              style=\"display:none;\">\n",
              "        \n",
              "  <svg xmlns=\"http://www.w3.org/2000/svg\" height=\"24px\"viewBox=\"0 0 24 24\"\n",
              "       width=\"24px\">\n",
              "    <path d=\"M0 0h24v24H0V0z\" fill=\"none\"/>\n",
              "    <path d=\"M18.56 5.44l.94 2.06.94-2.06 2.06-.94-2.06-.94-.94-2.06-.94 2.06-2.06.94zm-11 1L8.5 8.5l.94-2.06 2.06-.94-2.06-.94L8.5 2.5l-.94 2.06-2.06.94zm10 10l.94 2.06.94-2.06 2.06-.94-2.06-.94-.94-2.06-.94 2.06-2.06.94z\"/><path d=\"M17.41 7.96l-1.37-1.37c-.4-.4-.92-.59-1.43-.59-.52 0-1.04.2-1.43.59L10.3 9.45l-7.72 7.72c-.78.78-.78 2.05 0 2.83L4 21.41c.39.39.9.59 1.41.59.51 0 1.02-.2 1.41-.59l7.78-7.78 2.81-2.81c.8-.78.8-2.07 0-2.86zM5.41 20L4 18.59l7.72-7.72 1.47 1.35L5.41 20z\"/>\n",
              "  </svg>\n",
              "      </button>\n",
              "      \n",
              "  <style>\n",
              "    .colab-df-container {\n",
              "      display:flex;\n",
              "      flex-wrap:wrap;\n",
              "      gap: 12px;\n",
              "    }\n",
              "\n",
              "    .colab-df-convert {\n",
              "      background-color: #E8F0FE;\n",
              "      border: none;\n",
              "      border-radius: 50%;\n",
              "      cursor: pointer;\n",
              "      display: none;\n",
              "      fill: #1967D2;\n",
              "      height: 32px;\n",
              "      padding: 0 0 0 0;\n",
              "      width: 32px;\n",
              "    }\n",
              "\n",
              "    .colab-df-convert:hover {\n",
              "      background-color: #E2EBFA;\n",
              "      box-shadow: 0px 1px 2px rgba(60, 64, 67, 0.3), 0px 1px 3px 1px rgba(60, 64, 67, 0.15);\n",
              "      fill: #174EA6;\n",
              "    }\n",
              "\n",
              "    [theme=dark] .colab-df-convert {\n",
              "      background-color: #3B4455;\n",
              "      fill: #D2E3FC;\n",
              "    }\n",
              "\n",
              "    [theme=dark] .colab-df-convert:hover {\n",
              "      background-color: #434B5C;\n",
              "      box-shadow: 0px 1px 3px 1px rgba(0, 0, 0, 0.15);\n",
              "      filter: drop-shadow(0px 1px 2px rgba(0, 0, 0, 0.3));\n",
              "      fill: #FFFFFF;\n",
              "    }\n",
              "  </style>\n",
              "\n",
              "      <script>\n",
              "        const buttonEl =\n",
              "          document.querySelector('#df-640ed473-2aa5-43e0-a0d4-45657e4d03d9 button.colab-df-convert');\n",
              "        buttonEl.style.display =\n",
              "          google.colab.kernel.accessAllowed ? 'block' : 'none';\n",
              "\n",
              "        async function convertToInteractive(key) {\n",
              "          const element = document.querySelector('#df-640ed473-2aa5-43e0-a0d4-45657e4d03d9');\n",
              "          const dataTable =\n",
              "            await google.colab.kernel.invokeFunction('convertToInteractive',\n",
              "                                                     [key], {});\n",
              "          if (!dataTable) return;\n",
              "\n",
              "          const docLinkHtml = 'Like what you see? Visit the ' +\n",
              "            '<a target=\"_blank\" href=https://colab.research.google.com/notebooks/data_table.ipynb>data table notebook</a>'\n",
              "            + ' to learn more about interactive tables.';\n",
              "          element.innerHTML = '';\n",
              "          dataTable['output_type'] = 'display_data';\n",
              "          await google.colab.output.renderOutput(dataTable, element);\n",
              "          const docLink = document.createElement('div');\n",
              "          docLink.innerHTML = docLinkHtml;\n",
              "          element.appendChild(docLink);\n",
              "        }\n",
              "      </script>\n",
              "    </div>\n",
              "  </div>\n",
              "  "
            ]
          },
          "metadata": {},
          "execution_count": 3
        }
      ],
      "source": [
        "outvote = pd.read_csv('https://raw.githubusercontent.com/vveitch/causality-tutorials/main/data/outvote_2020_data.csv')\n",
        "outvote"
      ]
    },
    {
      "cell_type": "markdown",
      "metadata": {
        "id": "wksy28PnqSGU"
      },
      "source": [
        "**Data description:**\n",
        "* Core variables:\n",
        "  * `voted_2020`: (binary) the outcome; whether subject voted in 2020 election\n",
        "  * `messaged`: (binary) the treatment; whether subject was messaged by an Outvote user\n",
        "  * `queue_position`: (ordinal / pos int / 1+) the instrument; the subject's position/ranking in the user's queue; this is randomized\n",
        "  * `queue_length`: (ordinal / pos int / 2+) the block; how long the user's queue was; this is endogenous / non-randomized and must be blocked on\n",
        "\n",
        "* Optional / additional variables: \n",
        "  * `queue_id`: (int) a unique identifier for the queue the subject was in\n",
        "  * `voted_2018`: (binary) whether subject voted in 2018 election\n",
        "  * `voted_2016`: (binary) whether subject voted in 2016 election\n",
        "  * `is_Democrat`: (binary) whether subject is registered Democrat\n",
        "  * `is_Republican`: (binary) whether subject is registered Republican\n",
        "  * `is_Male`: (binary) whether subject identifies as Male\n",
        "  * `is_Female`: (binary) whether subject identifies as Female\n",
        "  * `is_Married`: (binary) whether subject is married\n",
        "  * `is_Urban`: (binary) whether subject lives in a city\n",
        "  * `is_Rural`: (binary) whether subject lives in a rural area\n",
        "  * `is_Battleground`: (binary) whether subject is registered in a battleground state\n",
        "  * `age`: (pos int, 18+), subject's age"
      ]
    },
    {
      "cell_type": "code",
      "execution_count": 4,
      "metadata": {
        "colab": {
          "base_uri": "https://localhost:8080/"
        },
        "id": "6CgdtoZr7uvL",
        "outputId": "39c90551-18ee-4dcd-b9d1-a8970900cf62"
      },
      "outputs": [
        {
          "output_type": "execute_result",
          "data": {
            "text/plain": [
              "43357"
            ]
          },
          "metadata": {},
          "execution_count": 4
        }
      ],
      "source": [
        "# select a cutoff K = 37 for the instrument\n",
        "# we only consider those queues with length > K\n",
        "outvote = outvote.loc[outvote.queue_length>37].reset_index()\n",
        "outvote['queue_position'] = (outvote['queue_position'] <= 37.0).astype(int)\n",
        "len(outvote)"
      ]
    },
    {
      "cell_type": "code",
      "execution_count": 5,
      "metadata": {
        "id": "2AC9TPko-hbt"
      },
      "outputs": [],
      "source": [
        "outcome = outvote['voted_2020']\n",
        "treatment = outvote['messaged']\n",
        "instrument = outvote['queue_position']\n",
        "block = outvote['queue_length']"
      ]
    },
    {
      "cell_type": "markdown",
      "metadata": {
        "id": "C576dWRsa3ad"
      },
      "source": [
        "## Specify Nuisance Function Models\n",
        "\n",
        "The next step is to specify models for \n",
        "\n",
        "*   $\\mu(z,x)=\\mathbb{E}(Y|z,x)$\n",
        "*   $m(z,x) = P(A=1|z,x)$\n",
        "*   $p(x) = P(Z=1|x)$\n",
        "\n"
      ]
    },
    {
      "cell_type": "code",
      "execution_count": 6,
      "metadata": {
        "colab": {
          "base_uri": "https://localhost:8080/"
        },
        "id": "qyOhSZRQRb8W",
        "outputId": "4819a4f0-8268-45e2-c667-7b0c6055d4d5"
      },
      "outputs": [
        {
          "output_type": "stream",
          "name": "stdout",
          "text": [
            "Test Cross Entropy of fit model 0.5250216548208155\n",
            "Test Cross Entropy of no-covariate model 0.5270933091701285\n"
          ]
        }
      ],
      "source": [
        "from sklearn.neighbors import KNeighborsClassifier\n",
        "# specify a model for mu(z,x)\n",
        "\n",
        "# make a function that returns a sklearn model for later use in k-folding\n",
        "def make_mu_model():\n",
        "  return KNeighborsClassifier(n_neighbors=300)\n",
        "mu_model = make_mu_model()\n",
        "\n",
        "# Sanity check that chosen model actually improves test error\n",
        "# A real analysis should give substantial attention to model selection and validation \n",
        "\n",
        "X_zx = outvote[['queue_position','queue_length']].copy()\n",
        "\n",
        "X_train, X_test, y_train, y_test = train_test_split(X_zx, outcome, test_size=0.2)\n",
        "mu_model.fit(X_train, y_train)\n",
        "y_pred = mu_model.predict_proba(X_test)[:,1]\n",
        "\n",
        "test_ce=log_loss(y_test, y_pred)\n",
        "print(f\"Test Cross Entropy of fit model {test_ce}\") \n",
        "baseline_ce=log_loss(y_test, y_train.mean()*np.ones_like(y_test))\n",
        "print(f\"Test Cross Entropy of no-covariate model {baseline_ce}\")"
      ]
    },
    {
      "cell_type": "code",
      "execution_count": 7,
      "metadata": {
        "colab": {
          "base_uri": "https://localhost:8080/"
        },
        "id": "uq6eZEBXbsaI",
        "outputId": "c87bc82f-22be-49f6-af8b-058eec588403"
      },
      "outputs": [
        {
          "output_type": "stream",
          "name": "stdout",
          "text": [
            "Test CE of fit model 0.6398686068177049\n",
            "Test CE of no-covariate model 0.6714289850271291\n"
          ]
        }
      ],
      "source": [
        "# specify a model for m(z,x)\n",
        "\n",
        "def make_m_model():\n",
        "  return LogisticRegression(max_iter=1000, warm_start=True, random_state=RANDOM_SEED)\n",
        "\n",
        "m_model = make_m_model()\n",
        "# Sanity check that chosen model actually improves test error\n",
        "# A real analysis should give substantial attention to model selection and validation \n",
        "\n",
        "X_train, X_test, a_train, a_test = train_test_split(X_zx, treatment, test_size=0.2)\n",
        "m_model.fit(X_train, a_train)\n",
        "a_pred = m_model.predict_proba(X_test)[:,1]\n",
        "\n",
        "test_ce=log_loss(a_test, a_pred)\n",
        "print(f\"Test CE of fit model {test_ce}\") \n",
        "baseline_ce=log_loss(a_test, a_train.mean()*np.ones_like(a_test))\n",
        "print(f\"Test CE of no-covariate model {baseline_ce}\")"
      ]
    },
    {
      "cell_type": "code",
      "execution_count": 8,
      "metadata": {
        "colab": {
          "base_uri": "https://localhost:8080/"
        },
        "id": "pg-7pFAYxRQ5",
        "outputId": "cf0a1fb1-31dd-4c9f-c5df-b8987d66a7c4"
      },
      "outputs": [
        {
          "output_type": "stream",
          "name": "stdout",
          "text": [
            "Test CE of fit model 0.5303714147556886\n",
            "Test CE of no-covariate model 0.6810169611354872\n"
          ]
        }
      ],
      "source": [
        "def make_p_model():\n",
        "  return RandomForestClassifier(n_estimators=200, max_depth=5)\n",
        "\n",
        "p_model = make_p_model()\n",
        "# Sanity check that chosen model actually improves test error\n",
        "# A real analysis should give substantial attention to model selection and validation \n",
        "\n",
        "X_train, X_test, Z_train, Z_test = train_test_split(block.to_frame(), instrument, test_size=0.2)\n",
        "p_model.fit(X_train, Z_train)\n",
        "Z_pred = p_model.predict_proba(X_test)[:,1]\n",
        "\n",
        "test_ce=log_loss(Z_test, Z_pred)\n",
        "print(f\"Test CE of fit model {test_ce}\") \n",
        "baseline_ce=log_loss(Z_test, Z_train.mean()*np.ones_like(Z_test))\n",
        "print(f\"Test CE of no-covariate model {baseline_ce}\")"
      ]
    },
    {
      "cell_type": "markdown",
      "metadata": {
        "id": "2RkvV_4_dFWo"
      },
      "source": [
        "## Use cross fitting to get predicted $\\hat{\\mu}$, $\\hat{m}$, $\\hat{p}$ for each unit"
      ]
    },
    {
      "cell_type": "code",
      "execution_count": 9,
      "metadata": {
        "id": "KA0AsEGJ_X3b"
      },
      "outputs": [],
      "source": [
        "# helper functions to implement the cross fitting\n",
        "\n",
        "def p_k_fold_fit_and_predict(make_model, X:pd.DataFrame, Z:np.array, n_splits:int):\n",
        "    \"\"\"\n",
        "    Implements K fold cross-fitting for the model predicting the instrument Z. \n",
        "    That is, \n",
        "    1. Split data into K folds\n",
        "    2. For each fold j, the model is fit on the other K-1 folds\n",
        "    3. The fitted model is used to make predictions for each data point in fold j\n",
        "    Returns an array containing the predictions  \n",
        "\n",
        "    Args:\n",
        "    model: function that returns sklearn model (which implements fit and predict_prob)\n",
        "    X: dataframe of variables to adjust for\n",
        "    Z: array of instruments\n",
        "    n_splits: number of splits to use\n",
        "    \"\"\"\n",
        "    predictions = np.full_like(Z, np.nan, dtype=float)\n",
        "    kf = StratifiedKFold(n_splits=n_splits, shuffle=True, random_state=RANDOM_SEED)\n",
        "    \n",
        "    for train_index, test_index in kf.split(X, Z):\n",
        "      X_train = X.loc[train_index]\n",
        "      Z_train = Z.loc[train_index]\n",
        "      g = make_model()\n",
        "      g.fit(X_train, Z_train)\n",
        "\n",
        "      # get predictions for split\n",
        "      predictions[test_index] = g.predict_proba(X.loc[test_index])[:, 1]\n",
        "\n",
        "    assert np.isnan(predictions).sum() == 0\n",
        "    return predictions\n",
        "\n",
        "\n",
        "def m_k_fold_fit_and_predict(make_model, X:pd.DataFrame, Z:np.array, A:np.array, n_splits:int):\n",
        "    \"\"\"\n",
        "    Implements K fold cross-fitting for the model predicting the outcome Y. \n",
        "    That is, \n",
        "    1. Split data into K folds\n",
        "    2. For each fold j, the model is fit on the other K-1 folds\n",
        "    3. The fitted model is used to make predictions for each data point in fold j\n",
        "    Returns two arrays containing the predictions for all units untreated, all units treated  \n",
        "\n",
        "    Args:\n",
        "    model: function that returns sklearn model (that implements fit and either predict_prob or predict)\n",
        "    X: dataframe of variables to adjust for\n",
        "    Z: array of instruments\n",
        "    A: array of treatments\n",
        "    n_splits: number of splits to use\n",
        "    \"\"\"\n",
        "    predictions0 = np.full_like(A, np.nan, dtype=float)\n",
        "    predictions1 = np.full_like(A, np.nan, dtype=float)\n",
        "    kf = StratifiedKFold(n_splits=n_splits, shuffle=True, random_state=RANDOM_SEED)\n",
        "\n",
        "    # include the treatment as input feature\n",
        "    X_zx = X.copy()\n",
        "    X_zx[\"Z\"] = Z\n",
        "\n",
        "    # for predicting A under Z=1 / Z=0 status for each data point \n",
        "    X0 = X_zx.copy()\n",
        "    X0[\"Z\"] = 0\n",
        "    X1 = X_zx.copy()\n",
        "    X1[\"Z\"] = 1\n",
        "    \n",
        "    for train_index, test_index in kf.split(X_zx, A):\n",
        "      X_train = X_zx.loc[train_index]\n",
        "      A_train = A.loc[train_index]\n",
        "      m = make_model()\n",
        "      m.fit(X_train, A_train)\n",
        "      predictions0[test_index] = m.predict_proba(X0.loc[test_index])[:,1]\n",
        "      predictions1[test_index] = m.predict_proba(X1.loc[test_index])[:,1]\n",
        "\n",
        "    assert np.isnan(predictions0).sum() == 0\n",
        "    assert np.isnan(predictions1).sum() == 0\n",
        "    return predictions0, predictions1\n",
        "\n",
        "def mu_k_fold_fit_and_predict(make_model, X:pd.DataFrame, Z:np.array, y:np.array, n_splits:int, output_type:str):\n",
        "    \"\"\"\n",
        "    Implements K fold cross-fitting for the model predicting the outcome Y. \n",
        "    That is, \n",
        "    1. Split data into K folds\n",
        "    2. For each fold j, the model is fit on the other K-1 folds\n",
        "    3. The fitted model is used to make predictions for each data point in fold j\n",
        "    Returns two arrays containing the predictions for all units untreated, all units treated  \n",
        "\n",
        "    Args:\n",
        "    model: function that returns sklearn model (that implements fit and either predict_prob or predict)\n",
        "    X: dataframe of variables to adjust for\n",
        "    Z: array of instruments\n",
        "    y: array of outcomes\n",
        "    n_splits: number of splits to use\n",
        "    output_type: type of outcome, \"binary\" or \"continuous\"\n",
        "\n",
        "    \"\"\"\n",
        "    predictions0 = np.full_like(y, np.nan, dtype=float)\n",
        "    predictions1 = np.full_like(y, np.nan, dtype=float)\n",
        "    if output_type == 'binary':\n",
        "      kf = StratifiedKFold(n_splits=n_splits, shuffle=True, random_state=RANDOM_SEED)\n",
        "    elif output_type == 'continuous':\n",
        "      kf = KFold(n_splits=n_splits, shuffle=True, random_state=RANDOM_SEED)\n",
        "\n",
        "    # include the treatment as input feature\n",
        "    X_zx = X.copy()\n",
        "    X_zx[\"Z\"] = Z\n",
        "\n",
        "    # for predicting effect under treatment / control status for each data point \n",
        "    X0 = X_zx.copy()\n",
        "    X0[\"Z\"] = 0\n",
        "    X1 = X_zx.copy()\n",
        "    X1[\"Z\"] = 1\n",
        "\n",
        "    \n",
        "    for train_index, test_index in kf.split(X_zx, y):\n",
        "      X_train = X_zx.loc[train_index]\n",
        "      y_train = y.loc[train_index]\n",
        "      mu = make_model()\n",
        "      mu.fit(X_train, y_train)\n",
        "\n",
        "      if output_type =='binary':\n",
        "        predictions0[test_index] = mu.predict_proba(X0.loc[test_index])[:, 1]\n",
        "        predictions1[test_index] = mu.predict_proba(X1.loc[test_index])[:, 1]\n",
        "      elif output_type == 'continuous':\n",
        "        predictions0[test_index] = mu.predict(X0.loc[test_index])\n",
        "        predictions1[test_index] = mu.predict(X1.loc[test_index])\n",
        "\n",
        "    assert np.isnan(predictions0).sum() == 0\n",
        "    assert np.isnan(predictions1).sum() == 0\n",
        "    return predictions0, predictions1"
      ]
    },
    {
      "cell_type": "code",
      "execution_count": 10,
      "metadata": {
        "id": "wVcE6pRQeMNf"
      },
      "outputs": [],
      "source": [
        "p = p_k_fold_fit_and_predict(make_p_model, X=block.to_frame(), Z=instrument, n_splits=10)"
      ]
    },
    {
      "cell_type": "code",
      "execution_count": 11,
      "metadata": {
        "id": "GLEHlLLdWSh9"
      },
      "outputs": [],
      "source": [
        "m0,m1= m_k_fold_fit_and_predict(make_m_model, X=block.to_frame(), Z=instrument, A=treatment, n_splits=10)"
      ]
    },
    {
      "cell_type": "code",
      "source": [
        "# check relevance\n",
        "from matplotlib.pyplot import hist\n",
        "hist(m1-m0, density=True)"
      ],
      "metadata": {
        "id": "jpXU9DK26d6c",
        "outputId": "72e0d30c-46e6-48b0-fd8a-318b8b88c26d",
        "colab": {
          "base_uri": "https://localhost:8080/",
          "height": 390
        }
      },
      "execution_count": 18,
      "outputs": [
        {
          "output_type": "execute_result",
          "data": {
            "text/plain": [
              "(array([3.97620728e-02, 3.77739692e-02, 9.34408711e-02, 2.04774675e-01,\n",
              "        3.37977619e-02, 0.00000000e+00, 0.00000000e+00, 3.61834863e-01,\n",
              "        5.95297873e+01, 2.58970380e+01]),\n",
              " array([0.04620174, 0.05780291, 0.06940408, 0.08100525, 0.09260642,\n",
              "        0.10420759, 0.11580876, 0.12740993, 0.13901109, 0.15061226,\n",
              "        0.16221343]),\n",
              " <a list of 10 Patch objects>)"
            ]
          },
          "metadata": {},
          "execution_count": 18
        },
        {
          "output_type": "display_data",
          "data": {
            "text/plain": [
              "<Figure size 432x288 with 1 Axes>"
            ],
            "image/png": "[encoded data removed]"
          },
          "metadata": {
            "needs_background": "light"
          }
        }
      ]
    },
    {
      "cell_type": "code",
      "execution_count": 13,
      "metadata": {
        "id": "kQ7s8zWV7IgR"
      },
      "outputs": [],
      "source": [
        "mu0,mu1= mu_k_fold_fit_and_predict(make_mu_model, X=block.to_frame(), Z=instrument, y=outcome, n_splits=10, output_type=\"binary\")"
      ]
    },
    {
      "cell_type": "code",
      "execution_count": 14,
      "metadata": {
        "colab": {
          "base_uri": "https://localhost:8080/",
          "height": 206
        },
        "id": "_NVCV0q0g8wQ",
        "outputId": "d0a90b3d-966c-4830-81c8-f73c71262552"
      },
      "outputs": [
        {
          "output_type": "execute_result",
          "data": {
            "text/plain": [
              "          p       mu0       mu1        m1        m0  Z  A  Y\n",
              "0  0.147581  0.833333  0.843333  0.668028  0.513991  0  0  0\n",
              "1  0.143757  0.826667  0.830000  0.667640  0.513672  0  0  1\n",
              "2  0.143383  0.823333  0.836667  0.668948  0.512616  0  0  1\n",
              "3  0.143757  0.826667  0.836667  0.667598  0.514286  0  0  1\n",
              "4  0.143383  0.826667  0.830000  0.667870  0.513021  0  0  0"
            ],
            "text/html": [
              "\n",
              "  <div id=\"df-39ee92f9-54d3-4a07-b4ea-3fc1006336e6\">\n",
              "    <div class=\"colab-df-container\">\n",
              "      <div>\n",
              "<style scoped>\n",
              "    .dataframe tbody tr th:only-of-type {\n",
              "        vertical-align: middle;\n",
              "    }\n",
              "\n",
              "    .dataframe tbody tr th {\n",
              "        vertical-align: top;\n",
              "    }\n",
              "\n",
              "    .dataframe thead th {\n",
              "        text-align: right;\n",
              "    }\n",
              "</style>\n",
              "<table border=\"1\" class=\"dataframe\">\n",
              "  <thead>\n",
              "    <tr style=\"text-align: right;\">\n",
              "      <th></th>\n",
              "      <th>p</th>\n",
              "      <th>mu0</th>\n",
              "      <th>mu1</th>\n",
              "      <th>m1</th>\n",
              "      <th>m0</th>\n",
              "      <th>Z</th>\n",
              "      <th>A</th>\n",
              "      <th>Y</th>\n",
              "    </tr>\n",
              "  </thead>\n",
              "  <tbody>\n",
              "    <tr>\n",
              "      <th>0</th>\n",
              "      <td>0.147581</td>\n",
              "      <td>0.833333</td>\n",
              "      <td>0.843333</td>\n",
              "      <td>0.668028</td>\n",
              "      <td>0.513991</td>\n",
              "      <td>0</td>\n",
              "      <td>0</td>\n",
              "      <td>0</td>\n",
              "    </tr>\n",
              "    <tr>\n",
              "      <th>1</th>\n",
              "      <td>0.143757</td>\n",
              "      <td>0.826667</td>\n",
              "      <td>0.830000</td>\n",
              "      <td>0.667640</td>\n",
              "      <td>0.513672</td>\n",
              "      <td>0</td>\n",
              "      <td>0</td>\n",
              "      <td>1</td>\n",
              "    </tr>\n",
              "    <tr>\n",
              "      <th>2</th>\n",
              "      <td>0.143383</td>\n",
              "      <td>0.823333</td>\n",
              "      <td>0.836667</td>\n",
              "      <td>0.668948</td>\n",
              "      <td>0.512616</td>\n",
              "      <td>0</td>\n",
              "      <td>0</td>\n",
              "      <td>1</td>\n",
              "    </tr>\n",
              "    <tr>\n",
              "      <th>3</th>\n",
              "      <td>0.143757</td>\n",
              "      <td>0.826667</td>\n",
              "      <td>0.836667</td>\n",
              "      <td>0.667598</td>\n",
              "      <td>0.514286</td>\n",
              "      <td>0</td>\n",
              "      <td>0</td>\n",
              "      <td>1</td>\n",
              "    </tr>\n",
              "    <tr>\n",
              "      <th>4</th>\n",
              "      <td>0.143383</td>\n",
              "      <td>0.826667</td>\n",
              "      <td>0.830000</td>\n",
              "      <td>0.667870</td>\n",
              "      <td>0.513021</td>\n",
              "      <td>0</td>\n",
              "      <td>0</td>\n",
              "      <td>0</td>\n",
              "    </tr>\n",
              "  </tbody>\n",
              "</table>\n",
              "</div>\n",
              "      <button class=\"colab-df-convert\" onclick=\"convertToInteractive('df-39ee92f9-54d3-4a07-b4ea-3fc1006336e6')\"\n",
              "              title=\"Convert this dataframe to an interactive table.\"\n",
              "              style=\"display:none;\">\n",
              "        \n",
              "  <svg xmlns=\"http://www.w3.org/2000/svg\" height=\"24px\"viewBox=\"0 0 24 24\"\n",
              "       width=\"24px\">\n",
              "    <path d=\"M0 0h24v24H0V0z\" fill=\"none\"/>\n",
              "    <path d=\"M18.56 5.44l.94 2.06.94-2.06 2.06-.94-2.06-.94-.94-2.06-.94 2.06-2.06.94zm-11 1L8.5 8.5l.94-2.06 2.06-.94-2.06-.94L8.5 2.5l-.94 2.06-2.06.94zm10 10l.94 2.06.94-2.06 2.06-.94-2.06-.94-.94-2.06-.94 2.06-2.06.94z\"/><path d=\"M17.41 7.96l-1.37-1.37c-.4-.4-.92-.59-1.43-.59-.52 0-1.04.2-1.43.59L10.3 9.45l-7.72 7.72c-.78.78-.78 2.05 0 2.83L4 21.41c.39.39.9.59 1.41.59.51 0 1.02-.2 1.41-.59l7.78-7.78 2.81-2.81c.8-.78.8-2.07 0-2.86zM5.41 20L4 18.59l7.72-7.72 1.47 1.35L5.41 20z\"/>\n",
              "  </svg>\n",
              "      </button>\n",
              "      \n",
              "  <style>\n",
              "    .colab-df-container {\n",
              "      display:flex;\n",
              "      flex-wrap:wrap;\n",
              "      gap: 12px;\n",
              "    }\n",
              "\n",
              "    .colab-df-convert {\n",
              "      background-color: #E8F0FE;\n",
              "      border: none;\n",
              "      border-radius: 50%;\n",
              "      cursor: pointer;\n",
              "      display: none;\n",
              "      fill: #1967D2;\n",
              "      height: 32px;\n",
              "      padding: 0 0 0 0;\n",
              "      width: 32px;\n",
              "    }\n",
              "\n",
              "    .colab-df-convert:hover {\n",
              "      background-color: #E2EBFA;\n",
              "      box-shadow: 0px 1px 2px rgba(60, 64, 67, 0.3), 0px 1px 3px 1px rgba(60, 64, 67, 0.15);\n",
              "      fill: #174EA6;\n",
              "    }\n",
              "\n",
              "    [theme=dark] .colab-df-convert {\n",
              "      background-color: #3B4455;\n",
              "      fill: #D2E3FC;\n",
              "    }\n",
              "\n",
              "    [theme=dark] .colab-df-convert:hover {\n",
              "      background-color: #434B5C;\n",
              "      box-shadow: 0px 1px 3px 1px rgba(0, 0, 0, 0.15);\n",
              "      filter: drop-shadow(0px 1px 2px rgba(0, 0, 0, 0.3));\n",
              "      fill: #FFFFFF;\n",
              "    }\n",
              "  </style>\n",
              "\n",
              "      <script>\n",
              "        const buttonEl =\n",
              "          document.querySelector('#df-39ee92f9-54d3-4a07-b4ea-3fc1006336e6 button.colab-df-convert');\n",
              "        buttonEl.style.display =\n",
              "          google.colab.kernel.accessAllowed ? 'block' : 'none';\n",
              "\n",
              "        async function convertToInteractive(key) {\n",
              "          const element = document.querySelector('#df-39ee92f9-54d3-4a07-b4ea-3fc1006336e6');\n",
              "          const dataTable =\n",
              "            await google.colab.kernel.invokeFunction('convertToInteractive',\n",
              "                                                     [key], {});\n",
              "          if (!dataTable) return;\n",
              "\n",
              "          const docLinkHtml = 'Like what you see? Visit the ' +\n",
              "            '<a target=\"_blank\" href=https://colab.research.google.com/notebooks/data_table.ipynb>data table notebook</a>'\n",
              "            + ' to learn more about interactive tables.';\n",
              "          element.innerHTML = '';\n",
              "          dataTable['output_type'] = 'display_data';\n",
              "          await google.colab.output.renderOutput(dataTable, element);\n",
              "          const docLink = document.createElement('div');\n",
              "          docLink.innerHTML = docLinkHtml;\n",
              "          element.appendChild(docLink);\n",
              "        }\n",
              "      </script>\n",
              "    </div>\n",
              "  </div>\n",
              "  "
            ]
          },
          "metadata": {},
          "execution_count": 14
        }
      ],
      "source": [
        "data_and_nuisance_estimates = pd.DataFrame({'p': p, 'mu0': mu0, 'mu1': mu1, 'm1': m1, 'm0': m0,\n",
        "                                            'Z': instrument, 'A': treatment, 'Y': outcome})\n",
        "data_and_nuisance_estimates.head()"
      ]
    },
    {
      "cell_type": "markdown",
      "metadata": {
        "id": "VNhM7URdgzQB"
      },
      "source": [
        "## Combine predicted values and data into estimate of LATE"
      ]
    },
    {
      "cell_type": "code",
      "execution_count": 15,
      "metadata": {
        "id": "Nj0veiaW4RRm"
      },
      "outputs": [],
      "source": [
        "def late_estimator(mu1, mu0, m1, m0, p, Z, A, Y, prob = None):\n",
        "  '''\n",
        "  Estimator for LATE\n",
        "  '''\n",
        "  n = len(Y)\n",
        "  phi_zy = mu1 - mu0 + Z*(Y-mu1)/p - (1-Z)*(Y-mu0)/(1-p)\n",
        "  phi_za = m1 - m0 + Z*(A-m1)/p - (1-Z)*(A-m0)/(1-p)\n",
        "\n",
        "  tau_za = phi_za.mean()\n",
        "  tau_hat = phi_zy.mean()/tau_za\n",
        "  phi = phi_zy - phi_za * tau_hat\n",
        "  \n",
        "  std_hat = math.sqrt((phi**2).mean()/tau_za**2/n)\n",
        "\n",
        "  return tau_hat, std_hat\n"
      ]
    },
    {
      "cell_type": "code",
      "execution_count": 16,
      "metadata": {
        "colab": {
          "base_uri": "https://localhost:8080/"
        },
        "id": "SjDj0F9Bm9uq",
        "outputId": "262886b4-da24-4b7c-eb75-c1a609e70e6c"
      },
      "outputs": [
        {
          "output_type": "stream",
          "name": "stdout",
          "text": [
            "The estimate is 0.047826812983712996 pm 0.07239241460155232\n"
          ]
        }
      ],
      "source": [
        "tau_hat, std_hat = late_estimator(**data_and_nuisance_estimates)\n",
        "print(f\"The estimate is {tau_hat} pm {1.96*std_hat}\")"
      ]
    }
  ],
  "metadata": {
    "colab": {
      "provenance": [],
      "authorship_tag": "ABX9TyMBLYRZL7Nk//toT2OnEWO8",
      "include_colab_link": true
    },
    "kernelspec": {
      "display_name": "Python 3",
      "name": "python3"
    },
    "language_info": {
      "name": "python"
    }
  },
  "nbformat": 4,
  "nbformat_minor": 0
}