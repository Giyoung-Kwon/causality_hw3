{
 "cells": [
  {
   "cell_type": "code",
   "execution_count": 11,
   "id": "35cf30ec",
   "metadata": {},
   "outputs": [],
   "source": [
    "# Data cleaning for demo of difference-in-differences estimation w/ machine learning methods\n",
    "# data from \"Do Police Reduce Crime? Estimates Using the Allocation of Police Forces After a Terrorist Attack\" Rafael Di Tella \n",
    "# https://www.aeaweb.org/articles?id=10.1257/000282804322970733"
   ]
  },
  {
   "cell_type": "code",
   "execution_count": 2,
   "id": "efebdb5e",
   "metadata": {},
   "outputs": [],
   "source": [
    "import pandas as pd\n",
    "import numpy as np\n",
    "import pyreadstat    "
   ]
  },
  {
   "cell_type": "code",
   "execution_count": 3,
   "id": "59563136",
   "metadata": {},
   "outputs": [
    {
     "name": "stderr",
     "output_type": "stream",
     "text": [
      "<ipython-input-3-ff31ce430198>:1: DeprecationWarning: `np.object` is a deprecated alias for the builtin `object`. To silence this warning, use `object` by itself. Doing this will not modify any behavior and is safe. \n",
      "Deprecated in NumPy 1.20; for more details and guidance: https://numpy.org/devdocs/release/1.20.0-notes.html#deprecations\n",
      "  cbb, _ = pyreadstat.read_dta('CrimebyBlock.dta')\n",
      "<ipython-input-3-ff31ce430198>:2: DeprecationWarning: `np.object` is a deprecated alias for the builtin `object`. To silence this warning, use `object` by itself. Doing this will not modify any behavior and is safe. \n",
      "Deprecated in NumPy 1.20; for more details and guidance: https://numpy.org/devdocs/release/1.20.0-notes.html#deprecations\n",
      "  panel, _ = pyreadstat.read_dta('MonthlyPanel.dta')\n"
     ]
    }
   ],
   "source": [
    "cbb, _ = pyreadstat.read_dta('CrimebyBlock.dta')\n",
    "panel, _ = pyreadstat.read_dta('MonthlyPanel.dta')"
   ]
  },
  {
   "cell_type": "code",
   "execution_count": 7,
   "id": "0fa52bad",
   "metadata": {},
   "outputs": [
    {
     "data": {
      "text/html": [
       "<div>\n",
       "<style scoped>\n",
       "    .dataframe tbody tr th:only-of-type {\n",
       "        vertical-align: middle;\n",
       "    }\n",
       "\n",
       "    .dataframe tbody tr th {\n",
       "        vertical-align: top;\n",
       "    }\n",
       "\n",
       "    .dataframe thead th {\n",
       "        text-align: right;\n",
       "    }\n",
       "</style>\n",
       "<table border=\"1\" class=\"dataframe\">\n",
       "  <thead>\n",
       "    <tr style=\"text-align: right;\">\n",
       "      <th></th>\n",
       "      <th>observ</th>\n",
       "      <th>barrio</th>\n",
       "      <th>calle</th>\n",
       "      <th>altura</th>\n",
       "      <th>institu1</th>\n",
       "      <th>institu3</th>\n",
       "      <th>distanci</th>\n",
       "      <th>edpub</th>\n",
       "      <th>estserv</th>\n",
       "      <th>banco</th>\n",
       "      <th>totrob</th>\n",
       "      <th>mes</th>\n",
       "      <th>educjefe</th>\n",
       "      <th>ocupado</th>\n",
       "    </tr>\n",
       "  </thead>\n",
       "  <tbody>\n",
       "    <tr>\n",
       "      <th>0</th>\n",
       "      <td>870.0</td>\n",
       "      <td>Once</td>\n",
       "      <td>Cordoba</td>\n",
       "      <td>a2300</td>\n",
       "      <td>0.0</td>\n",
       "      <td>1.0</td>\n",
       "      <td>1.0</td>\n",
       "      <td>1.0</td>\n",
       "      <td>0.0</td>\n",
       "      <td>0.0</td>\n",
       "      <td>0.0</td>\n",
       "      <td>4.0</td>\n",
       "      <td>13.051907</td>\n",
       "      <td>0.954406</td>\n",
       "    </tr>\n",
       "    <tr>\n",
       "      <th>1</th>\n",
       "      <td>851.0</td>\n",
       "      <td>Once</td>\n",
       "      <td>Tucuman</td>\n",
       "      <td>a2400</td>\n",
       "      <td>0.0</td>\n",
       "      <td>0.0</td>\n",
       "      <td>2.0</td>\n",
       "      <td>0.0</td>\n",
       "      <td>0.0</td>\n",
       "      <td>0.0</td>\n",
       "      <td>0.0</td>\n",
       "      <td>4.0</td>\n",
       "      <td>12.648452</td>\n",
       "      <td>0.950570</td>\n",
       "    </tr>\n",
       "    <tr>\n",
       "      <th>2</th>\n",
       "      <td>843.0</td>\n",
       "      <td>Once</td>\n",
       "      <td>Lavalle</td>\n",
       "      <td>a2300</td>\n",
       "      <td>1.0</td>\n",
       "      <td>1.0</td>\n",
       "      <td>0.0</td>\n",
       "      <td>0.0</td>\n",
       "      <td>0.0</td>\n",
       "      <td>1.0</td>\n",
       "      <td>0.0</td>\n",
       "      <td>4.0</td>\n",
       "      <td>12.648452</td>\n",
       "      <td>0.950570</td>\n",
       "    </tr>\n",
       "    <tr>\n",
       "      <th>3</th>\n",
       "      <td>796.0</td>\n",
       "      <td>Once</td>\n",
       "      <td>Pasteur</td>\n",
       "      <td>a500</td>\n",
       "      <td>0.0</td>\n",
       "      <td>1.0</td>\n",
       "      <td>1.0</td>\n",
       "      <td>0.0</td>\n",
       "      <td>0.0</td>\n",
       "      <td>0.0</td>\n",
       "      <td>0.0</td>\n",
       "      <td>4.0</td>\n",
       "      <td>12.893609</td>\n",
       "      <td>0.954887</td>\n",
       "    </tr>\n",
       "    <tr>\n",
       "      <th>4</th>\n",
       "      <td>790.0</td>\n",
       "      <td>Once</td>\n",
       "      <td>Azcuenaga</td>\n",
       "      <td>a700</td>\n",
       "      <td>1.0</td>\n",
       "      <td>1.0</td>\n",
       "      <td>0.0</td>\n",
       "      <td>0.0</td>\n",
       "      <td>0.0</td>\n",
       "      <td>0.0</td>\n",
       "      <td>0.0</td>\n",
       "      <td>4.0</td>\n",
       "      <td>12.893609</td>\n",
       "      <td>0.954887</td>\n",
       "    </tr>\n",
       "  </tbody>\n",
       "</table>\n",
       "</div>"
      ],
      "text/plain": [
       "   observ barrio      calle altura  institu1  institu3  distanci  edpub  \\\n",
       "0   870.0   Once    Cordoba  a2300       0.0       1.0       1.0    1.0   \n",
       "1   851.0   Once    Tucuman  a2400       0.0       0.0       2.0    0.0   \n",
       "2   843.0   Once    Lavalle  a2300       1.0       1.0       0.0    0.0   \n",
       "3   796.0   Once    Pasteur   a500       0.0       1.0       1.0    0.0   \n",
       "4   790.0   Once  Azcuenaga   a700       1.0       1.0       0.0    0.0   \n",
       "\n",
       "   estserv  banco  totrob  mes   educjefe   ocupado  \n",
       "0      0.0    0.0     0.0  4.0  13.051907  0.954406  \n",
       "1      0.0    0.0     0.0  4.0  12.648452  0.950570  \n",
       "2      0.0    1.0     0.0  4.0  12.648452  0.950570  \n",
       "3      0.0    0.0     0.0  4.0  12.893609  0.954887  \n",
       "4      0.0    0.0     0.0  4.0  12.893609  0.954887  "
      ]
     },
     "execution_count": 7,
     "metadata": {},
     "output_type": "execute_result"
    }
   ],
   "source": [
    "panel = panel.join(cbb[['educjefe','ocupado']], on='observ') # education of head of household, unemployment rate\n",
    "panel.head()"
   ]
  },
  {
   "cell_type": "code",
   "execution_count": 8,
   "id": "64777226",
   "metadata": {},
   "outputs": [],
   "source": [
    "panel = panel.drop(columns=['altura','institu3','distanci']) # unsure what these are"
   ]
  },
  {
   "cell_type": "code",
   "execution_count": 10,
   "id": "64ecee42",
   "metadata": {},
   "outputs": [],
   "source": [
    "english_translation = {'observ': 'block',\n",
    "                      'barrio': 'neighbourhood',\n",
    "                      'calle': 'street',\n",
    "                      'institu1': 'jewish_insitute',\n",
    "                       'edpub': 'public_institution',\n",
    "                       'estserv': 'gas_station',\n",
    "                       'banko': 'bank',\n",
    "                       'totrob': 'car_thefts',\n",
    "                       'mes': 'month',\n",
    "                       'educjefe': 'education',\n",
    "                       'ocupado': 'employment_rate'\n",
    "                      }\n",
    "panel = panel.rename(columns=english_translation)"
   ]
  },
  {
   "cell_type": "code",
   "execution_count": 12,
   "id": "8e49470e",
   "metadata": {},
   "outputs": [],
   "source": [
    "panel.to_csv(\"DiTella_crime.csv\", index=False)"
   ]
  },
  {
   "cell_type": "code",
   "execution_count": null,
   "id": "98cd4270",
   "metadata": {},
   "outputs": [],
   "source": []
  }
 ],
 "metadata": {
  "kernelspec": {
   "display_name": "Python 3",
   "language": "python",
   "name": "python3"
  },
  "language_info": {
   "codemirror_mode": {
    "name": "ipython",
    "version": 3
   },
   "file_extension": ".py",
   "mimetype": "text/x-python",
   "name": "python",
   "nbconvert_exporter": "python",
   "pygments_lexer": "ipython3",
   "version": "3.8.8"
  }
 },
 "nbformat": 4,
 "nbformat_minor": 5
}
